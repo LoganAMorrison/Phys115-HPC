{
 "cells": [
  {
   "cell_type": "markdown",
   "metadata": {},
   "source": [
    "# Optimizing Python Code"
   ]
  },
  {
   "cell_type": "code",
   "execution_count": 571,
   "metadata": {},
   "outputs": [
    {
     "name": "stdout",
     "output_type": "stream",
     "text": [
      "The Cython extension is already loaded. To reload it, use:\n",
      "  %reload_ext Cython\n"
     ]
    }
   ],
   "source": [
    "import cProfile\n",
    "import random\n",
    "import math\n",
    "import numpy as np\n",
    "import time\n",
    "import multiprocessing as mp\n",
    "import cython\n",
    "import matplotlib.pyplot as plt\n",
    "from scipy.special import k1e, kve\n",
    "from scipy.integrate import quad\n",
    "from PIL import Image\n",
    "\n",
    "from ipywidgets import interact\n",
    "\n",
    "%matplotlib inline\n",
    "%load_ext Cython"
   ]
  },
  {
   "cell_type": "markdown",
   "metadata": {},
   "source": [
    "## Introduction"
   ]
  },
  {
   "cell_type": "markdown",
   "metadata": {},
   "source": [
    "Often times (especially in `Python`) one finds that their code just isn't fast enough and they would like to speed up their code. Say, they're running some sort of scan which is taking many hours to run. How might they reduce this time to something more managable, like several minutes? In these tutorials, we will investigate techniques to speed up code in python.\n",
    "\n",
    "But before we dig in, we will need to set some ground rules:\n",
    "1. Make sure your code is working **BEFORE** trying to optimize.\n",
    "2. Profile your code to find where your code is the slowest.\n",
    "3. Try using `NumPy` first.\n",
    "4. Try other options"
   ]
  },
  {
   "cell_type": "markdown",
   "metadata": {},
   "source": [
    "<div class=\"alert alert-warning\">\n",
    "==WARNING==\n",
    "    \n",
    "In regards to point #2:\n",
    "   \n",
    "In Donald Knuth's paper \"Structured Programming With Go To Statements\", he wrote: \n",
    "    \n",
    "\"Programmers waste enormous amounts of time thinking about, or worrying about, the speed of noncritical parts of their programs, and these attempts at efficiency actually have a strong negative impact when debugging and maintenance are considered. We should forget about small efficiencies, say about 97% of the time: premature optimization is the root of all evil. Yet we should not pass up our opportunities in that critical 3%.\n",
    "</div>"
   ]
  },
  {
   "cell_type": "markdown",
   "metadata": {},
   "source": [
    "The take away from the above statements is: you should find where you code is taking the longest first before trying to optimize. You may spend a lot of time optimizing what you *think* is the slow part of your code only to realize when you're finished that your optimizations we're did very little. To discover where you should look to optimize, one should **profile** their code."
   ]
  },
  {
   "cell_type": "markdown",
   "metadata": {
    "heading_collapsed": true
   },
   "source": [
    "## Profiling"
   ]
  },
  {
   "cell_type": "markdown",
   "metadata": {
    "hidden": true
   },
   "source": [
    "Profiling you code is very easy in python. One can simply import the `cProfile` module from the python standard library and run `cProfile.run(...)` where the `...` is the code you would like to profile."
   ]
  },
  {
   "cell_type": "markdown",
   "metadata": {
    "hidden": true
   },
   "source": [
    "To demonstrate how one might use `cProfile` to find slow parts of their code, let's revisit the Ising model. Recall that the Ising model consists of $N$ spins which interact with their nearest neighbors with an interaction strength $J$. If these spins have a magnetic moment, $\\mu$, they also interact with external magentic fields $B$. The Hamiltonian for this system was given by:"
   ]
  },
  {
   "cell_type": "markdown",
   "metadata": {
    "hidden": true
   },
   "source": [
    "\\begin{align}\n",
    "    H = -J\\sum_{i=0}^{N-1}S_{i}S_{i+1} - \\mu B\\sum_{i=0}^{N-1}S_{i}\n",
    "\\end{align}"
   ]
  },
  {
   "cell_type": "markdown",
   "metadata": {
    "hidden": true
   },
   "source": [
    "where $S_{i}=1,-1$ and $S_{N + i} \\equiv S_{i}$ for periodic boundary conditions. When we investigating the thermodynamic properties Ising model, we used the Metropolis algorithm to relax the spin-chain to an equilibrium state. This algorithm worked applying the following steps:\n",
    "1. Pick a random spin. Call it $S_{k}$\n",
    "2. Compute the change in energy, $\\Delta E$, needed to flip $S_{k}$\n",
    "3. If $\\Delta E$ < 0, flip the spin. If $\\Delta E \\geq 0$, we draw a random uniform number $r$. If $e^{-\\beta\\Delta E}\\geq r$, then we flip the spin.\n",
    "4. Repeat 1-3 many times.\n",
    "5. Average over the last several microstates to determine the macro thermodynamic property in question.  \n",
    "\n",
    "Let's implement steps 1-4. First, let's construct a function which computes the change in energy of the spin-chain if we flip spin $i$. For our first pass, we will compute the energy for the original state, then recompute the energy for the new state. We will first write a function to compute the energy:"
   ]
  },
  {
   "cell_type": "code",
   "execution_count": 481,
   "metadata": {
    "hidden": true
   },
   "outputs": [],
   "source": [
    "def compute_energy(spin_chain, J, B, mu):\n",
    "    \"\"\"\n",
    "    Compute the energy of the spin configuration.\n",
    "    \"\"\"\n",
    "    n = len(spin_chain)\n",
    "    energy = 0.0\n",
    "    for i in range(n):\n",
    "        # Compute the energy from spin-spin interactions\n",
    "        spinspin = -J * spin_chain[i - 1] * spin_chain[i]\n",
    "        # Compute the energy from spin-magnetic field interactions\n",
    "        mag = -mu * B * spin_chain[i]\n",
    "        energy += spinspin + mag\n",
    "    return energy"
   ]
  },
  {
   "cell_type": "markdown",
   "metadata": {
    "hidden": true
   },
   "source": [
    "Now, let's write a function to compute the change in energy if we perform a flip:"
   ]
  },
  {
   "cell_type": "code",
   "execution_count": 482,
   "metadata": {
    "hidden": true
   },
   "outputs": [],
   "source": [
    "def compute_energy_change(i, spin_chain, J, B, mu):\n",
    "    \"\"\"\n",
    "    Compute the energy of the spin configuration.\n",
    "    \"\"\"\n",
    "    # Compute the energy of the state\n",
    "    Ei = compute_energy(spin_chain, J, B, mu)\n",
    "    # Compute the energy of the flipped state\n",
    "    spin_chain[i] *= -1\n",
    "    Ef = compute_energy(spin_chain, J, B, mu)\n",
    "    # Compute the difference and restore state:\n",
    "    dE = Ef - Ei\n",
    "    spin_chain[i] *= -1\n",
    "    return dE"
   ]
  },
  {
   "cell_type": "markdown",
   "metadata": {
    "hidden": true
   },
   "source": [
    "Next, let's implement a function to update the state of our system using the metropolis algorithm:"
   ]
  },
  {
   "cell_type": "code",
   "execution_count": 487,
   "metadata": {
    "hidden": true
   },
   "outputs": [],
   "source": [
    "def update_spin(spin_chain, J, B, mu, T):\n",
    "    \"\"\"\n",
    "    Update a spin in the spin chain.\n",
    "    \"\"\"\n",
    "    n = len(spin_chain)\n",
    "    # Use `random` to choose an integer from 0, n-1\n",
    "    i = random.randint(0, n-1)\n",
    "    # Compute change in energy\n",
    "    dE = compute_energy_change(i, spin_chain, J, B, mu)\n",
    "    # Apply Metropolis\n",
    "    if math.exp(-dE / T) <= random.random():\n",
    "        spin_chain[i] *= -1"
   ]
  },
  {
   "cell_type": "markdown",
   "metadata": {
    "hidden": true
   },
   "source": [
    "Now let's profile the `update_spin` function and see how things are going:"
   ]
  },
  {
   "cell_type": "code",
   "execution_count": 488,
   "metadata": {
    "hidden": true
   },
   "outputs": [
    {
     "name": "stdout",
     "output_type": "stream",
     "text": [
      "         140263 function calls in 4.518 seconds\n",
      "\n",
      "   Ordered by: standard name\n",
      "\n",
      "   ncalls  tottime  percall  cumtime  percall filename:lineno(function)\n",
      "    20000    4.461    0.000    4.463    0.000 <ipython-input-481-4e573e4722c4>:1(compute_energy)\n",
      "    10000    0.009    0.000    4.472    0.000 <ipython-input-482-0a6d95fc7e8e>:1(compute_energy_change)\n",
      "    10000    0.014    0.000    4.513    0.000 <ipython-input-487-99df470a5c94>:1(update_spin)\n",
      "        1    0.004    0.004    4.518    4.518 <string>:1(<listcomp>)\n",
      "        1    0.000    0.000    4.518    4.518 <string>:1(<module>)\n",
      "    10000    0.009    0.000    0.019    0.000 random.py:172(randrange)\n",
      "    10000    0.004    0.000    0.023    0.000 random.py:216(randint)\n",
      "    10000    0.007    0.000    0.010    0.000 random.py:222(_randbelow)\n",
      "        1    0.000    0.000    4.518    4.518 {built-in method builtins.exec}\n",
      "    30000    0.003    0.000    0.003    0.000 {built-in method builtins.len}\n",
      "    10000    0.002    0.000    0.002    0.000 {built-in method math.exp}\n",
      "    10000    0.001    0.000    0.001    0.000 {method 'bit_length' of 'int' objects}\n",
      "        1    0.000    0.000    0.000    0.000 {method 'disable' of '_lsprof.Profiler' objects}\n",
      "    10259    0.002    0.000    0.002    0.000 {method 'getrandbits' of '_random.Random' objects}\n",
      "    10000    0.001    0.000    0.001    0.000 {method 'random' of '_random.Random' objects}\n",
      "\n",
      "\n"
     ]
    }
   ],
   "source": [
    "nspins = 1000\n",
    "J = 1.0\n",
    "B = 0.0\n",
    "mu = 0.0\n",
    "T = 1.0\n",
    "spin_chain = [random.choice([-1, 1]) for _ in range(nspins)]\n",
    "\n",
    "cProfile.run('[update_spin(spin_chain, J, B, mu, T) for _ in range(10000)]')"
   ]
  },
  {
   "cell_type": "markdown",
   "metadata": {
    "hidden": true
   },
   "source": [
    "Here is what everything means:\n",
    "- **ncalls**: for the number of calls.\n",
    "- **tottime**: for the total time spent in the given function (and excluding time made in calls to sub-functions)\n",
    "- **percall**: is the quotient of tottime divided by ncalls\n",
    "- **cumtime**: is the cumulative time spent in this and all subfunctions (from invocation till exit). This figure is accurate even for recursive functions.\n",
    "- **percall**: is the quotient of cumtime divided by primitive calls\n",
    "- **filename:lineno(function)**: provides the respective data of each function"
   ]
  },
  {
   "cell_type": "markdown",
   "metadata": {
    "hidden": true
   },
   "source": [
    "So we can see that 10000 calls to `update_spin` takes about 4.4 seconds. However, we see something interesting. Nearly ALL of that time is spent in `compute` energy (see `tottime`.) So, if we would like to optimize this function, its pretty obvious where to start! We should optimize `compute_energy`. But, if we think a bit harder, we only want compute energy to compute the change in energy of the system. Since only one spin changes at a time, we can bypass `compute_energy` all together and come up with a simpler way to compute the change in energy.\n",
    "\n",
    "Looking more closely at the Hamiltonian, one finds that, if we flip spin $k$, the change in energy of the system is:"
   ]
  },
  {
   "cell_type": "markdown",
   "metadata": {
    "hidden": true
   },
   "source": [
    "\\begin{align}\n",
    "    \\Delta E = 2 S_{k} \\left[J\\left(S_{k+1} + S_{k-1}\\right) + \\mu B\\right]\n",
    "\\end{align}"
   ]
  },
  {
   "cell_type": "markdown",
   "metadata": {
    "hidden": true
   },
   "source": [
    "Thus, to determine the change in energy of the system, simply need to compute the above. Let's make a new version of our `compute_energy_change` function:"
   ]
  },
  {
   "cell_type": "code",
   "execution_count": 489,
   "metadata": {
    "hidden": true
   },
   "outputs": [],
   "source": [
    "def compute_energy_change2(k, spin_chain, J, B, mu):\n",
    "    if k == len(spin_chain) - 1:\n",
    "        return 2 * spin_chain[k] * (J * (spin_chain[0] + spin_chain[k-1]) + mu * B)\n",
    "    else:\n",
    "        return 2 * spin_chain[k] * (J * (spin_chain[k+1] + spin_chain[k-1]) + mu * B)"
   ]
  },
  {
   "cell_type": "markdown",
   "metadata": {
    "hidden": true
   },
   "source": [
    "As we should always do, let's make sure this new implementation agrees with the previous implemenation:"
   ]
  },
  {
   "cell_type": "code",
   "execution_count": 490,
   "metadata": {
    "hidden": true
   },
   "outputs": [
    {
     "name": "stdout",
     "output_type": "stream",
     "text": [
      "-4.0\n",
      "-4.0\n"
     ]
    }
   ],
   "source": [
    "print(compute_energy_change(1, spin_chain, J, B, mu))\n",
    "print(compute_energy_change2(1, spin_chain, J, B, mu))"
   ]
  },
  {
   "cell_type": "markdown",
   "metadata": {
    "hidden": true
   },
   "source": [
    "Good! Now, let's make a new version of our update function which uses the new version of the `compute_energy_change` function:"
   ]
  },
  {
   "cell_type": "code",
   "execution_count": 493,
   "metadata": {
    "hidden": true
   },
   "outputs": [],
   "source": [
    "def update_spin2(spin_chain, J, B, mu, T):\n",
    "    \"\"\"\n",
    "    Update a spin in the spin chain.\n",
    "    \"\"\"\n",
    "    n = len(spin_chain)\n",
    "    # Use `random` to choose an integer from 0, n-1\n",
    "    i = random.randint(0, n-1)\n",
    "    # Compute change in energy\n",
    "    dE = compute_energy_change2(i, spin_chain, J, B, mu)\n",
    "    # Apply Metropolis\n",
    "    if math.exp(-dE / T) <= random.random():\n",
    "        spin_chain[i] *= -1"
   ]
  },
  {
   "cell_type": "markdown",
   "metadata": {
    "hidden": true
   },
   "source": [
    "And let's give it a whirl:"
   ]
  },
  {
   "cell_type": "code",
   "execution_count": 494,
   "metadata": {
    "hidden": true
   },
   "outputs": [
    {
     "name": "stdout",
     "output_type": "stream",
     "text": [
      "         110254 function calls in 0.047 seconds\n",
      "\n",
      "   Ordered by: standard name\n",
      "\n",
      "   ncalls  tottime  percall  cumtime  percall filename:lineno(function)\n",
      "    10000    0.006    0.000    0.007    0.000 <ipython-input-489-6d62445ad29f>:1(compute_energy_change2)\n",
      "    10000    0.012    0.000    0.043    0.000 <ipython-input-493-e94d820e9b94>:1(update_spin2)\n",
      "        1    0.004    0.004    0.047    0.047 <string>:1(<listcomp>)\n",
      "        1    0.000    0.000    0.047    0.047 <string>:1(<module>)\n",
      "    10000    0.008    0.000    0.017    0.000 random.py:172(randrange)\n",
      "    10000    0.004    0.000    0.021    0.000 random.py:216(randint)\n",
      "    10000    0.006    0.000    0.009    0.000 random.py:222(_randbelow)\n",
      "        1    0.000    0.000    0.047    0.047 {built-in method builtins.exec}\n",
      "    20000    0.002    0.000    0.002    0.000 {built-in method builtins.len}\n",
      "    10000    0.001    0.000    0.001    0.000 {built-in method math.exp}\n",
      "    10000    0.001    0.000    0.001    0.000 {method 'bit_length' of 'int' objects}\n",
      "        1    0.000    0.000    0.000    0.000 {method 'disable' of '_lsprof.Profiler' objects}\n",
      "    10250    0.002    0.000    0.002    0.000 {method 'getrandbits' of '_random.Random' objects}\n",
      "    10000    0.001    0.000    0.001    0.000 {method 'random' of '_random.Random' objects}\n",
      "\n",
      "\n"
     ]
    }
   ],
   "source": [
    "nspins = 1000\n",
    "J = 1.0\n",
    "B = 0.0\n",
    "mu = 0.0\n",
    "T = 1.0\n",
    "spin_chain = [random.choice([-1, 1]) for _ in range(nspins)]\n",
    "\n",
    "cProfile.run('[update_spin2(spin_chain, J, B, mu, T) for _ in range(10000)]')"
   ]
  },
  {
   "cell_type": "markdown",
   "metadata": {
    "hidden": true
   },
   "source": [
    "😮... This is about 100 times faster! This illustrates how we can pinpoint the slowest parts of our code and optimize to achieve faster code."
   ]
  },
  {
   "cell_type": "markdown",
   "metadata": {
    "heading_collapsed": true
   },
   "source": [
    "## `NumPy`"
   ]
  },
  {
   "cell_type": "markdown",
   "metadata": {
    "hidden": true
   },
   "source": [
    "Often times when you have slow `Python` code in scientific computing its because you're not using enough `NumPy`! A lot of `NumPy` is written is pure `c`. That means that when you do operations on arrays, these operations are often being done in pure `c` behind the scenes. If we take adavantage of this, we can often achieve large speed ups."
   ]
  },
  {
   "cell_type": "markdown",
   "metadata": {
    "hidden": true
   },
   "source": [
    "To illustrate this, let's return to the Monte-carlo integration example from one of the PSETs. Remember that Monte-Carlo integration works by approximating an integral $I$ using:"
   ]
  },
  {
   "cell_type": "markdown",
   "metadata": {
    "hidden": true
   },
   "source": [
    "\\begin{align}\n",
    "    I = \\int_{\\Omega}d^{d}\\vec{x}f(\\vec{x})\\approx \\frac{V}{N}\\sum_{i=1}^{N}f(\\vec{x}_{i})\n",
    "\\end{align}"
   ]
  },
  {
   "cell_type": "markdown",
   "metadata": {
    "hidden": true
   },
   "source": [
    "where $\\vec{x}_{i}$ is a random vector inside our region of integration $\\Omega$ with volume $V$. For simplicity, we will take $\\Omega$ to be a unit hyper-cube (so $V = 1$.) Let's write a function which will use MC integration to integrate some function over a unit hyper-cube."
   ]
  },
  {
   "cell_type": "code",
   "execution_count": 496,
   "metadata": {
    "hidden": true
   },
   "outputs": [],
   "source": [
    "def integrate_mc(f, ndim, npts):\n",
    "    \"\"\"\n",
    "    Integrate a function over a hyper-cube using Monte-Carlo.\n",
    "    \n",
    "    Parameters\n",
    "    ----------\n",
    "    f: callable\n",
    "        Function to integrate\n",
    "    ndim: int\n",
    "        Number of dimensions of the system\n",
    "    npts: int\n",
    "        Number of points to use in integration.\n",
    "    \"\"\"\n",
    "    fsum = 0.0\n",
    "    f2sum = 0.0\n",
    "    for k in range(npts):\n",
    "        # Generate a random vector\n",
    "        pts = [random.random() for i in range(ndim)]\n",
    "        # Evaluate the function\n",
    "        fval = f(pts)\n",
    "        fsum += fval\n",
    "        f2sum += fval**2\n",
    "    # Compute the integral estimate\n",
    "    integral = fsum / npts\n",
    "    avg2 = f2sum / npts\n",
    "    std = math.sqrt(avg2 - integral**2)\n",
    "    error = std / math.sqrt(npts)\n",
    "    \n",
    "    return integral, error"
   ]
  },
  {
   "cell_type": "markdown",
   "metadata": {
    "hidden": true
   },
   "source": [
    "Let's use the same function from the PSET, i.e.:"
   ]
  },
  {
   "cell_type": "markdown",
   "metadata": {
    "hidden": true
   },
   "source": [
    "\\begin{align}\n",
    "f(x) = \\left(\\sum_{i=1}^{10}x_{i}\\right)^2\n",
    "\\end{align}"
   ]
  },
  {
   "cell_type": "code",
   "execution_count": 497,
   "metadata": {
    "hidden": true
   },
   "outputs": [],
   "source": [
    "def f(x):\n",
    "    fval = 0.0\n",
    "    for i in range(len(x)):\n",
    "        fval += x[i]\n",
    "    return fval**2"
   ]
  },
  {
   "cell_type": "markdown",
   "metadata": {
    "hidden": true
   },
   "source": [
    "Now let's time how long this function takes:"
   ]
  },
  {
   "cell_type": "code",
   "execution_count": 499,
   "metadata": {
    "hidden": true
   },
   "outputs": [
    {
     "name": "stdout",
     "output_type": "stream",
     "text": [
      "integral = 25.825734006092446, error = 0.004112657973875036, time = 10.836636781692505\n"
     ]
    }
   ],
   "source": [
    "t0 = time.time()\n",
    "npts = 5000000\n",
    "integral, error = integrate_mc(f, 10, npts)\n",
    "t1 = time.time()\n",
    "print(f\"integral = {integral}, error = {error}, time = {t1-t0}\")"
   ]
  },
  {
   "cell_type": "markdown",
   "metadata": {
    "hidden": true
   },
   "source": [
    "Let's think about what we are doing in the above example. We are first taking `d=ndim` random number:\n",
    "\\begin{align}\n",
    "    r_{1}, r_{2},\\dots, r_{d}\n",
    "\\end{align}\n",
    "Then, we are summing them:\n",
    "\\begin{align}\n",
    "    r_{1}, r_{2},\\dots, r_{d} \\to r_{1} + r_{2}+ \\cdots + r_{d}\n",
    "\\end{align}\n",
    "Then we square the sum:\n",
    "\\begin{align}\n",
    "    r_{1} + r_{2}+ \\cdots + r_{d} \\to (r_{1} + r_{2}+ \\cdots + r_{d})^2\n",
    "\\end{align}"
   ]
  },
  {
   "cell_type": "markdown",
   "metadata": {
    "hidden": true
   },
   "source": [
    "One might notice that all of these operations can be done in pure `NumPy`! Let's see what this looks like in `NumPy`:\n",
    "```python\n",
    "# Generate `d=ndim` random number: (r1, r2,..., rd)\n",
    ">>> nums = np.random.rand(ndim)\n",
    "array([0.26975253, 0.73287346, 0.56619396, 0.36911862, 0.59555464,...])\n",
    "# Sum them\n",
    ">>> tsum = np.sum(nums)\n",
    "2.533493203408602\n",
    "# Square\n",
    ">>> tsum**2\n",
    "6.41858781171758\n",
    "```\n",
    "This can be combined into one line as:\n",
    "```python\n",
    ">>> np.sum(np.random.rand(ndim))**2\n",
    "6.41858781171758\n",
    "```"
   ]
  },
  {
   "cell_type": "markdown",
   "metadata": {
    "hidden": true
   },
   "source": [
    "That was easy! Now, we would like to do this many times. `NumPy` can do this very efficiently. First, let's make an array of `N`x`d` random number:\n",
    "```python\n",
    "N = 10\n",
    "d = 5\n",
    ">>> rands = np.random.rand(10, 5)\n",
    "array([[0.26710951, 0.42828954, 0.10725534, 0.90864514],\n",
    "       [0.89081527, 0.85347667, 0.81367381, 0.53985759],\n",
    "       [0.11190761, 0.6044705 , 0.10671305, 0.57558664],\n",
    "       [0.72345535, 0.27989919, 0.42372606, 0.18112357],\n",
    "       [0.09991332, 0.90279081, 0.65644979, 0.84177427],\n",
    "       [0.29823545, 0.3388897 , 0.56091701, 0.98475297],\n",
    "       [0.55350661, 0.47200534, 0.39264102, 0.33956616],\n",
    "       [0.56339476, 0.92145093, 0.13305375, 0.68434001],\n",
    "       [0.8425773 , 0.69433766, 0.29323947, 0.32693491],\n",
    "       [0.43869687, 0.55223718, 0.29408006, 0.41584071]])\n",
    "```\n",
    "Now, for each of these rows, we would like to sum up all the entries. This can be done again using `np.sum`. But we need to specify that we would like to sum the columns. This is done by specifying `np.sum(..., axis=1)`. Here, `axis=1` means columns (`axis = 0` means rows.) Let's see what happens:\n",
    "```python\n",
    ">>> np.sum(rands, axis=1)\n",
    "array([1.71129954, 3.09782335, 1.39867779, 1.60820416, 2.50092819,\n",
    "       2.18279512, 1.75771913, 2.30223945, 2.15708934, 1.70085482])\n",
    "```\n",
    "Now, we would like to square each value. We again just use `**`:\n",
    "```python\n",
    ">>> np.sum(rands, axis=1)**2\n",
    "array([2.92854612, 9.59650949, 1.95629956, 2.58632063, 6.25464183,\n",
    "       4.76459453, 3.08957656, 5.30030649, 4.65303442, 2.8929071 ])\n",
    "```\n",
    "Lastly, to get the integral estimate, we can use `np.average`. All together, this looks like:\n",
    "```python\n",
    ">>> integral = np.average(np.sum(np.random.rand(10, 5), axis=1)**2)\n",
    "4.402273672551671\n",
    "```\n",
    "We can similarly get the error estimate using `np.std`. Let's see how pure `NumPy` compares to our `integrate_mc` function:"
   ]
  },
  {
   "cell_type": "code",
   "execution_count": 521,
   "metadata": {
    "hidden": true
   },
   "outputs": [
    {
     "name": "stdout",
     "output_type": "stream",
     "text": [
      "integral = 25.835523342296007, error = 0.0041132507547658095, time = 0.4805889129638672\n"
     ]
    }
   ],
   "source": [
    "t0 = time.time()\n",
    "npts = 5000000\n",
    "vals = np.sum(np.random.rand(npts, 10), axis=1)**2\n",
    "integal = np.average(vals)\n",
    "error = np.std(vals) / np.sqrt(npts)\n",
    "t1 = time.time()\n",
    "\n",
    "print(f\"integral = {integal}, error = {error}, time = {t1 - t0}\")"
   ]
  },
  {
   "cell_type": "markdown",
   "metadata": {
    "hidden": true
   },
   "source": [
    "That was about 50 times faster! Let's try and example:"
   ]
  },
  {
   "cell_type": "markdown",
   "metadata": {
    "hidden": true
   },
   "source": [
    "**Excercise**\n",
    "\n",
    "Now let's get our hands dirty and see if we can integrate another function. Using the above as a template, use `NumPy` to compute the following integral:\n",
    "\\begin{align}\n",
    "    I = \\prod_{i=1}^{5}\\int_{0}^{1}dx_{i}x_{i}^2 = \\int_{0}^{1}dx_{1}\\cdots\\int_{0}^{1}dx_{5}\\ x_{1}^{2}\\cdots x_{5}^2\n",
    "\\end{align}"
   ]
  },
  {
   "cell_type": "markdown",
   "metadata": {
    "hidden": true
   },
   "source": [
    "Compare you answer with the exact answer, which is $\\frac{1}{3^5}$. (**Hint**: NumPy has a product function: `np.prod`.)"
   ]
  },
  {
   "cell_type": "code",
   "execution_count": null,
   "metadata": {
    "hidden": true
   },
   "outputs": [],
   "source": [
    "# Your answer here..."
   ]
  },
  {
   "cell_type": "markdown",
   "metadata": {
    "heading_collapsed": true
   },
   "source": [
    "## `Multiproccesing`"
   ]
  },
  {
   "cell_type": "markdown",
   "metadata": {
    "hidden": true
   },
   "source": [
    "Basic setup:\n",
    "\n",
    "Import the module (call it `mp` for short):\n",
    "```python\n",
    "import multiprocessing as mp\n",
    "```\n",
    "Construct a `Pool`:\n",
    "```python\n",
    "num_pools = ...\n",
    "pool = mp.Pool(num_pools)\n",
    "```\n",
    "The above will generate `num_pools` number of proccess which can run independently. In essence, this will be the number of simultaneous `Python` programs that can run at the same time. Typically, I set this the number number of logical cores on the machine I'm working on. To see how many logical cores you have, you can use: `mp.cpu_count()`.\n",
    "\n",
    "Start running some functions! Say we have some function called `compute` which takes in some arguments. We can start running this function by using:\n",
    "```python\n",
    "result = pool.apply_async(compute, args=(...))\n",
    "```\n",
    "Here we are running the function `compute` in a seperate python program and storing the result from `compute` in `result`. Next, if we don't want to add anything more to the pool, then we can close the pool:\n",
    "```python\n",
    "pool.close()\n",
    "```\n",
    "This tells the pool that we won't be adding anything else. Lastly, we will stop the current python program until all the pools have finished their computations using the `join` method:\n",
    "```python\n",
    "pool.join()\n",
    "```\n",
    "Now, we can get the result once finished!\n",
    "```python\n",
    "res = result.get()\n",
    "```"
   ]
  },
  {
   "cell_type": "markdown",
   "metadata": {
    "hidden": true
   },
   "source": [
    "Let's give this a shot using our Monte-Carlo integrator. We will construct a function which will compute the sum of function values and the sum of function values squared (needed for error estimate). Then, take the total number of evaluations that we need to perform and divide up the work among the different workers in the pool. Once all the workers have finished computing there portion of the sum, we will compute the integral and error."
   ]
  },
  {
   "cell_type": "code",
   "execution_count": 522,
   "metadata": {
    "code_folding": [],
    "hidden": true
   },
   "outputs": [],
   "source": [
    "def generate_fs(f, ndim, npts):\n",
    "    \"\"\"\n",
    "    Integrate a function over a hyper-cube using Monte-Carlo.\n",
    "    \n",
    "    Parameters\n",
    "    ----------\n",
    "    f: callable\n",
    "        Function to integrate\n",
    "    ndim: int\n",
    "        Number of dimensions of the system\n",
    "    npts: int\n",
    "        Number of points to use in integration.\n",
    "    \"\"\"\n",
    "    fsum = 0.0\n",
    "    f2sum = 0.0\n",
    "    for k in range(npts):\n",
    "        # Generate a random vector\n",
    "        pts = [random.random() for i in range(ndim)]\n",
    "        # Evaluate the function\n",
    "        fval = f(pts)\n",
    "        fsum += fval\n",
    "        f2sum += fval**2\n",
    "    return np.array([fsum, f2sum])\n",
    "\n",
    "\n",
    "def multiproccessing_integrate_mc(f, ndim, npts):\n",
    "    \"\"\"\n",
    "    Integrate a function over a hyper-cube using Monte-Carlo.\n",
    "    \n",
    "    Parameters\n",
    "    ----------\n",
    "    f: callable\n",
    "        Function to integrate\n",
    "    ndim: int\n",
    "        Number of dimensions of the system\n",
    "    npts: int\n",
    "        Number of points to use in integration.\n",
    "    \"\"\"\n",
    "    ncpus = mp.cpu_count()\n",
    "    pool = mp.Pool(ncpus)\n",
    "    pts_per_cpu = int(npts / ncpus)\n",
    "    results = []\n",
    "    for i in range(ncpus):\n",
    "        results.append(pool.apply_async(generate_fs, args=(f, ndim, pts_per_cpu)))\n",
    "    pool.close()\n",
    "    pool.join()\n",
    "    \n",
    "    tup = sum([res.get() for res in results]) / npts\n",
    "    integral = tup[0]\n",
    "    avg2 = tup[1]\n",
    "    std = math.sqrt(avg2 - integral**2)\n",
    "    error = std / math.sqrt(npts)\n",
    "    \n",
    "    return integral, error"
   ]
  },
  {
   "cell_type": "code",
   "execution_count": 523,
   "metadata": {
    "hidden": true,
    "scrolled": false
   },
   "outputs": [
    {
     "name": "stdout",
     "output_type": "stream",
     "text": [
      "result=(25.83404179977455, 0.0041171372755293085), time=1.7203221321105957\n"
     ]
    }
   ],
   "source": [
    "t0 = time.time()\n",
    "npts = 5000000\n",
    "res = multiproccessing_integrate_mc(f, 10, npts)\n",
    "t1 = time.time()\n",
    "print(f\"result={res}, time={t1-t0}\")"
   ]
  },
  {
   "cell_type": "markdown",
   "metadata": {
    "hidden": true
   },
   "source": [
    "Here we get an answer that is about 5 times faster!"
   ]
  },
  {
   "cell_type": "markdown",
   "metadata": {
    "hidden": true
   },
   "source": [
    "**Excercise**\n",
    "\n",
    "Below, we have a function called `complicated_function` that takes a number, then runs for 2 seconds and then returns a number for you. Suppose we need to call this function 10 times. That would take about 20 seconds. Use `multiproccessing` to start up a pool of workers to work on these 10 computations simultaneously and print out the results."
   ]
  },
  {
   "cell_type": "code",
   "execution_count": 534,
   "metadata": {
    "hidden": true
   },
   "outputs": [],
   "source": [
    "def complicated_function(i):\n",
    "    time.sleep(2)\n",
    "    return i"
   ]
  },
  {
   "cell_type": "code",
   "execution_count": 535,
   "metadata": {
    "hidden": true
   },
   "outputs": [
    {
     "name": "stdout",
     "output_type": "stream",
     "text": [
      "results = [0, 1, 2, 3, 4, 5, 6, 7, 8, 9], time = 20.028277158737183\n"
     ]
    }
   ],
   "source": [
    "t0 = time.time()\n",
    "results = [complicated_function(i) for i in range(10)]\n",
    "t1 = time.time()    \n",
    "print(f'results = {results}, time = {t1 - t0}')"
   ]
  },
  {
   "cell_type": "code",
   "execution_count": 536,
   "metadata": {
    "hidden": true
   },
   "outputs": [
    {
     "name": "stdout",
     "output_type": "stream",
     "text": [
      "results = [0, 1, 2, 3, 4, 5, 6, 7, 8, 9], time = 2.13602614402771\n"
     ]
    }
   ],
   "source": [
    "t0 = time.time()\n",
    "ncpus = mp.cpu_count()\n",
    "pool = mp.Pool(ncpus)\n",
    "results = []\n",
    "for i in range(10):\n",
    "    results.append(pool.apply_async(complicated_function, args=(i,)))\n",
    "pool.close()\n",
    "pool.join()\n",
    "\n",
    "results = [res.get() for res in results]\n",
    "    \n",
    "\n",
    "t1 = time.time()    \n",
    "print(f'results = {results}, time = {t1 - t0}')"
   ]
  },
  {
   "cell_type": "markdown",
   "metadata": {},
   "source": [
    "## `Cython`"
   ]
  },
  {
   "cell_type": "markdown",
   "metadata": {},
   "source": [
    "Here we will describe how to make `Python` lightning fast by using `Cython` https://cython.org/. `Cython` is a hybrid language which looks very similar to `Python` but allows you to add types and call `c/c++` functions. `Cython` code gets compiled into optimized `c` code which is then called from python. \n",
    "\n",
    "In jupyter, all of this is very easy. We just need to have `Cython` installed (easier said than done on Windows...) and annotate a cell with a magic function `%%cython`. We can then write `Cython` code in that cell and call the `Cython` code from the rest of our jupyter notebook! Let's take a look at a very simple example."
   ]
  },
  {
   "cell_type": "markdown",
   "metadata": {},
   "source": [
    "### Warm-up"
   ]
  },
  {
   "cell_type": "markdown",
   "metadata": {},
   "source": [
    "We will start with a silly example. Suppose you want to sum up the first `N` integers in `Python`. That is, you want to know the result of:"
   ]
  },
  {
   "cell_type": "markdown",
   "metadata": {},
   "source": [
    "\\begin{align}\n",
    "S_N = \\sum_{i=1}^{N}i\n",
    "\\end{align}"
   ]
  },
  {
   "cell_type": "markdown",
   "metadata": {},
   "source": [
    "(of course we know the analytic answer, but bare with me.) In `Python` we can write a function which takes `N` as a parameter and runs a quick for loop to sum over the integers between 1 and `N`. This looks like:"
   ]
  },
  {
   "cell_type": "code",
   "execution_count": 539,
   "metadata": {},
   "outputs": [],
   "source": [
    "def pysum(N):\n",
    "    int_sum = 0\n",
    "    for i in range(N + 1):\n",
    "        int_sum += i\n",
    "    return int_sum "
   ]
  },
  {
   "cell_type": "markdown",
   "metadata": {},
   "source": [
    "Let's see how long this function takes to run with `N` = 50 millon:"
   ]
  },
  {
   "cell_type": "code",
   "execution_count": 564,
   "metadata": {},
   "outputs": [
    {
     "name": "stdout",
     "output_type": "stream",
     "text": [
      "2.34 s ± 32.9 ms per loop (mean ± std. dev. of 7 runs, 1 loop each)\n"
     ]
    }
   ],
   "source": [
    "%timeit pysum(int(5e7))"
   ]
  },
  {
   "cell_type": "code",
   "execution_count": 569,
   "metadata": {},
   "outputs": [],
   "source": [
    "%%cython\n",
    "\n",
    "def cysum(unsigned long long n):\n",
    "    # Add types to int_sum and i (note unsigned long long is a 64-bit unsiged integer)\n",
    "    # with a maximum value of about 10^19\n",
    "    cdef unsigned long long int_sum = 0\n",
    "    cdef unsigned long long i\n",
    "    for i in range(n + 1):\n",
    "        int_sum += i\n",
    "    return int_sum\n",
    "        "
   ]
  },
  {
   "cell_type": "code",
   "execution_count": 567,
   "metadata": {},
   "outputs": [
    {
     "name": "stdout",
     "output_type": "stream",
     "text": [
      "157 ns ± 0.95 ns per loop (mean ± std. dev. of 7 runs, 10000000 loops each)\n"
     ]
    }
   ],
   "source": [
    "%timeit cysum(int(5e7))"
   ]
  },
  {
   "cell_type": "markdown",
   "metadata": {},
   "source": [
    "Okay...well...that was about 10 millon times faster... Although this example is a bit contrived and this is obviously not the typical speed up that you will find when using `Cython`, it shows that you can achieve MUCH faster code.\n",
    "\n",
    "Typicaly, you can see anything from 10-1000 times speed up with `Cython`."
   ]
  },
  {
   "cell_type": "markdown",
   "metadata": {},
   "source": [
    "### Ising model revisited"
   ]
  },
  {
   "cell_type": "markdown",
   "metadata": {},
   "source": [
    "Let's revist the Ising model. But let's step our game up. Let's do the 2D Ising mode. Everything is the same as in the 1D Ising model, but with an extra dimension. We will need code to do the following:\n",
    "\n",
    "- **`initialize_lattice`**: A function to create a random initial state of spins. All spins will be either 1 or -1.\n",
    "- **`update_lattice_point`**: A function to update the state of a spin using the Metropolis–Hastings algorithm.\n",
    "- **`update_lattice`**: A function to update all of the spins on the lattice (this is a bit different than what we did in Lecture and in the PSET, but instead of picking a random spin to update, we will update them all for each 'step')\n",
    "\n",
    "And thats it! For simplicity, we will assume no external magnetic field. Let's write:"
   ]
  },
  {
   "cell_type": "code",
   "execution_count": 582,
   "metadata": {},
   "outputs": [],
   "source": [
    "def initialize_lattice(N, M):\n",
    "    \"\"\"\n",
    "    Returns an NxM lattice of spins with spin -1 or 1.    \n",
    "    \"\"\"\n",
    "    return np.random.choice([-1, 1], size=(N, M))\n",
    "\n",
    "\n",
    "def update_lattice_point(lattice, n, m, beta):\n",
    "    \"\"\"\n",
    "    Update the spin located at (n, m) using the Metropolis–Hastings algorithm.\n",
    "\n",
    "    Parameters\n",
    "    ----------\n",
    "    lattice: np.ndarry of shape (N, M)\n",
    "        Lattice of spins\n",
    "    n: int\n",
    "        Row where spin is located.\n",
    "    m: int\n",
    "        Column where spin is located.\n",
    "    beta: float\n",
    "        Inverse temperature of the system in units of energy.\n",
    "    \"\"\"\n",
    "    N, M = lattice.shape\n",
    "    # Compute energy needed to flip spin.\n",
    "    dE = 2 * lattice[n, m] * (\n",
    "        lattice[(n + 1) % N, m]\n",
    "        + lattice[(n - 1) % N, m]\n",
    "        + lattice[n, (m + 1) % M]\n",
    "        + lattice[n, (m - 1) % M]\n",
    "    )\n",
    "    # Decide if we should flip using Metropolis–Hastings\n",
    "    if np.exp(-dE * beta) > np.random.rand():\n",
    "        lattice[n, m] *= -1\n",
    "\n",
    "\n",
    "def update_lattice(lattice, beta):\n",
    "    \"\"\"\n",
    "    Update every point on the lattice once in-place and\n",
    "    return the lattice.\n",
    "    \n",
    "    Paramters\n",
    "    ----------\n",
    "    lattice: np.ndarry of shape (N, M)\n",
    "        Lattice of spins\n",
    "    beta: float\n",
    "        Inverse temperature of the system in units of energy.\n",
    "    \"\"\"\n",
    "    N, M = lattice.shape\n",
    "    for n_offset in range(2):\n",
    "        for m_offset in range(2):\n",
    "            for n in range(n_offset, N, 2):\n",
    "                for m in range(m_offset, M, 2):\n",
    "                    update_lattice_point(lattice, n, m, beta)\n",
    "    return lattice"
   ]
  },
  {
   "cell_type": "markdown",
   "metadata": {},
   "source": [
    "Now, let's write a function to display the lattice. We will use `Pillow` for this example (you can also just use `matplotlib.pyplot.imshow`, but for this case, `Pillow` will be smoother)"
   ]
  },
  {
   "cell_type": "code",
   "execution_count": 594,
   "metadata": {},
   "outputs": [],
   "source": [
    "def disply_lattice(lattice):\n",
    "    \"\"\"\n",
    "    Generate an image of the lattice in gray scale\n",
    "    \"\"\"\n",
    "    # Return an image of the lattice. Pillow would like values\n",
    "    # from 0 to 255\n",
    "    return Image.fromarray(np.uint8((lattice + 1) * 0.5 * 255))\n",
    "\n",
    "def disply_lattice_sequence(images):\n",
    "    \"\"\"\n",
    "    Display a set of images of the lattice\n",
    "    \"\"\"\n",
    "    def _show(frame=(0, len(images)-1)):\n",
    "        return disply_lattice(images[frame])\n",
    "    return interact(_show)"
   ]
  },
  {
   "cell_type": "markdown",
   "metadata": {},
   "source": [
    "Now, let's initialize the lattice and update every point 50 times."
   ]
  },
  {
   "cell_type": "code",
   "execution_count": 595,
   "metadata": {},
   "outputs": [
    {
     "name": "stdout",
     "output_type": "stream",
     "text": [
      "11.547499179840088\n"
     ]
    }
   ],
   "source": [
    "t0 = time.time()\n",
    "images = [initialize_lattice(200, 200)]\n",
    "for i in range(50):\n",
    "    images.append(update_lattice(images[-1].copy(), 0.7))\n",
    "t1 = time.time()\n",
    "print(t1 - t0)"
   ]
  },
  {
   "cell_type": "markdown",
   "metadata": {},
   "source": [
    "Takes about 10 seconds...not so good for making changes to the code...But let's take a look at the sequence of images:"
   ]
  },
  {
   "cell_type": "code",
   "execution_count": 593,
   "metadata": {},
   "outputs": [
    {
     "data": {
      "application/vnd.jupyter.widget-view+json": {
       "model_id": "a607964bee134413aa35ee63a1455260",
       "version_major": 2,
       "version_minor": 0
      },
      "text/plain": [
       "interactive(children=(IntSlider(value=25, description='frame', max=50), Output()), _dom_classes=('widget-inter…"
      ]
     },
     "metadata": {},
     "output_type": "display_data"
    },
    {
     "data": {
      "text/plain": [
       "<function __main__.disply_lattice_sequence.<locals>._show(frame=(0, 50))>"
      ]
     },
     "execution_count": 593,
     "metadata": {},
     "output_type": "execute_result"
    }
   ],
   "source": [
    "disply_lattice_sequence(images)"
   ]
  },
  {
   "cell_type": "markdown",
   "metadata": {},
   "source": [
    "Very cool!\n",
    "\n",
    "Now, let's make this ligthning fast! Away we go..."
   ]
  },
  {
   "cell_type": "code",
   "execution_count": 598,
   "metadata": {
    "code_folding": []
   },
   "outputs": [],
   "source": [
    "%%cython\n",
    "\n",
    "# Import Cython's NumPy\n",
    "import numpy as np\n",
    "cimport numpy as np\n",
    "# Import the c version of exp\n",
    "from libc.math cimport exp\n",
    "# Import the c random number generator\n",
    "from libc.stdlib cimport rand\n",
    "# Import cython for decorators\n",
    "cimport cython\n",
    "\n",
    "# The c random number generator generates an integer\n",
    "# from 0 to RAND_MAX. We need to know this number. \n",
    "# The bellow code pulls in this value for the 'limits.h'\n",
    "# c standard library.\n",
    "cdef extern from \"limits.h\":\n",
    "    int RAND_MAX\n",
    "\n",
    "@cython.boundscheck(False)\n",
    "@cython.wraparound(False)\n",
    "cdef cy_update_lattice_point(np.int64_t[:,:] lattice, int n, int m, double beta):\n",
    "    # Give types to all the things...\n",
    "    cdef unsigned int N = lattice.shape[0]\n",
    "    cdef unsigned int M = lattice.shape[1]\n",
    "\n",
    "    # Instead of doing (n + 1) % N, we will determine\n",
    "    # n + 1 and n - 1 ourselves\n",
    "    cdef int nmax = n + 1\n",
    "    cdef int nmin = n - 1\n",
    "    if n == N - 1:\n",
    "        nmax = 0\n",
    "    elif n == 0:\n",
    "        nmin = N - 1\n",
    "    \n",
    "    cdef int mmax = m + 1\n",
    "    cdef int mmin = m - 1\n",
    "    if m == M - 1:\n",
    "        mmax = 0\n",
    "    elif m == 0:\n",
    "        mmin = M - 1\n",
    "    \n",
    "    cdef int dE = 2 * lattice[n, m] * (\n",
    "          lattice[nmax, m]\n",
    "        + lattice[nmin, m]\n",
    "        + lattice[n, mmax]\n",
    "        + lattice[n, mmin]\n",
    "    )\n",
    "    # Equivalent to exp(-dE * beta) > np.random.rand()\n",
    "    if exp(-dE * beta) * RAND_MAX > rand():\n",
    "        lattice[n, m] = -lattice[n, m]\n",
    "    \n",
    "def cy_update_lattice(np.int64_t[:,:] lattice, double beta):\n",
    "    cdef int N = lattice.shape[0]\n",
    "    cdef int M = lattice.shape[1]\n",
    "    cdef int n, m\n",
    "    cdef int n_offset, m_offset\n",
    "    \n",
    "    for n_offset in range(2):\n",
    "        for m_offset in range(2):\n",
    "            for n in range(n_offset, N, 2):\n",
    "                for m in range(m_offset, M, 2):\n",
    "                    cy_update_lattice_point(lattice, n, m, beta)\n",
    "    return np.array(lattice)"
   ]
  },
  {
   "cell_type": "markdown",
   "metadata": {},
   "source": [
    "Let's see how this new verison compares to the 'pure' `Python` version:"
   ]
  },
  {
   "cell_type": "code",
   "execution_count": 604,
   "metadata": {},
   "outputs": [
    {
     "name": "stdout",
     "output_type": "stream",
     "text": [
      "235 ms ± 6.44 ms per loop (mean ± std. dev. of 7 runs, 1 loop each)\n",
      "657 µs ± 9.74 µs per loop (mean ± std. dev. of 7 runs, 1000 loops each)\n"
     ]
    }
   ],
   "source": [
    "lattice = initialize_lattice(200, 200)\n",
    "%timeit update_lattice(lattice, 0.4) # = 🐢\n",
    "%timeit cy_update_lattice(lattice, 0.4) # = 🔥"
   ]
  },
  {
   "cell_type": "markdown",
   "metadata": {},
   "source": [
    "🏃‍♀️ About 500 times faster!!"
   ]
  },
  {
   "cell_type": "code",
   "execution_count": 600,
   "metadata": {},
   "outputs": [],
   "source": [
    "images = [initialize_lattice(200, 200)]\n",
    "for i in range(100):\n",
    "    images.append(cy_update_lattice(images[-1].copy(), 0.8))"
   ]
  },
  {
   "cell_type": "markdown",
   "metadata": {},
   "source": [
    "🔥 Going so fast we're burnin' up 🔥"
   ]
  },
  {
   "cell_type": "code",
   "execution_count": 603,
   "metadata": {},
   "outputs": [
    {
     "data": {
      "application/vnd.jupyter.widget-view+json": {
       "model_id": "a441ba5847ae40ddae833ef2bacbe3cf",
       "version_major": 2,
       "version_minor": 0
      },
      "text/plain": [
       "interactive(children=(IntSlider(value=50, description='frame'), Output()), _dom_classes=('widget-interact',))"
      ]
     },
     "metadata": {},
     "output_type": "display_data"
    },
    {
     "data": {
      "text/plain": [
       "<function __main__.disply_lattice_sequence.<locals>._show(frame=(0, 100))>"
      ]
     },
     "execution_count": 603,
     "metadata": {},
     "output_type": "execute_result"
    }
   ],
   "source": [
    "disply_lattice_sequence(images)"
   ]
  }
 ],
 "metadata": {
  "kernelspec": {
   "display_name": "Python 3",
   "language": "python",
   "name": "python3"
  },
  "language_info": {
   "codemirror_mode": {
    "name": "ipython",
    "version": 3
   },
   "file_extension": ".py",
   "mimetype": "text/x-python",
   "name": "python",
   "nbconvert_exporter": "python",
   "pygments_lexer": "ipython3",
   "version": "3.6.2"
  }
 },
 "nbformat": 4,
 "nbformat_minor": 4
}
